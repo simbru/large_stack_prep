{
 "cells": [
  {
   "cell_type": "code",
   "execution_count": 1,
   "metadata": {},
   "outputs": [],
   "source": [
    "#import necessary libraries \n",
    "import matplotlib.pyplot as plt\n",
    "import seaborn as sns\n",
    "import numpy as np\n",
    "import os\n",
    "import pathlib\n",
    "import processing_pypeline.readScanM as rsm\n",
    "#import napari\n",
    "import igorwriter\n",
    "#from igor import binarywave\n",
    "from scanmsupport.scanm.scanm_smp import SMP, SMH\n",
    "from main import filesize_reducer"
   ]
  },
  {
   "attachments": {},
   "cell_type": "markdown",
   "metadata": {},
   "source": [
    "### Give path\n",
    "Can press Shift + Right Click, then press 'Copy as path' on file in File Explorer. Then paste below. Remember to include the 'r' before, so python can read it. "
   ]
  },
  {
   "cell_type": "code",
   "execution_count": 9,
   "metadata": {},
   "outputs": [],
   "source": [
    "path = r\"D:\\Igor analyses\\240123\\1_1_ColourSWN_200.smp\""
   ]
  },
  {
   "attachments": {},
   "cell_type": "markdown",
   "metadata": {},
   "source": [
    "### Run filesize reducer"
   ]
  },
  {
   "cell_type": "code",
   "execution_count": 10,
   "metadata": {},
   "outputs": [
    {
     "name": "stdout",
     "output_type": "stream",
     "text": [
      "Processing file `D:\\Igor analyses\\240123\\1_1_ColourSWN_200.smh`\n",
      "Loading pre-header ...\n",
      "Loading parameters (key-value pairs) ...\n",
      "80 key-value pair(s) found\n",
      "Correct parameters for older files ...\n",
      "71 parameter(s) extracted\n",
      "Done.\n",
      "Processing file `D:\\Igor analyses\\240123\\1_1_ColourSWN_200.smp`\n",
      "Loading post-header ...\n",
      "2 AI channel(s) (0b101)\n",
      "76424 of 50000 buffer(s) (each 3200 pixels) per channel\n",
      "76424 pixel bufs of 76424 read.\n",
      "Done.\n",
      "Writing wParamsStr\n",
      "Writing wParamsNum\n",
      "Writing wDataCh0\n",
      "Writing wDataCh2\n",
      "Done. Saved outputs to D:\\Igor analyses\\240123\\1_1_ColourSWN_200\n"
     ]
    }
   ],
   "source": [
    "\n",
    "filesize_reducer(path)\n"
   ]
  },
  {
   "cell_type": "code",
   "execution_count": 9,
   "metadata": {},
   "outputs": [
    {
     "ename": "TypeError",
     "evalue": "expected str, bytes or os.PathLike object, not list",
     "output_type": "error",
     "traceback": [
      "\u001b[1;31m---------------------------------------------------------------------------\u001b[0m",
      "\u001b[1;31mTypeError\u001b[0m                                 Traceback (most recent call last)",
      "Cell \u001b[1;32mIn[9], line 2\u001b[0m\n\u001b[0;32m      1\u001b[0m \u001b[39mfor\u001b[39;00m path \u001b[39min\u001b[39;00m paths:   \n\u001b[1;32m----> 2\u001b[0m     filesize_reducer(path)\n",
      "File \u001b[1;32mc:\\Users\\SimenLab\\OneDrive\\Universitet\\PhD\\GitHub repos\\large_stack_prep\\main.py:110\u001b[0m, in \u001b[0;36mfilesize_reducer\u001b[1;34m(input_path)\u001b[0m\n\u001b[0;32m    109\u001b[0m \u001b[39mdef\u001b[39;00m \u001b[39mfilesize_reducer\u001b[39m(input_path):\n\u001b[1;32m--> 110\u001b[0m     scanmfile \u001b[39m=\u001b[39m load_Igor(input_path)\n\u001b[0;32m    111\u001b[0m     output_ch2crop(scanmfile, input_path)\n",
      "File \u001b[1;32mc:\\Users\\SimenLab\\OneDrive\\Universitet\\PhD\\GitHub repos\\large_stack_prep\\main.py:31\u001b[0m, in \u001b[0;36mload_Igor\u001b[1;34m(path)\u001b[0m\n\u001b[0;32m     29\u001b[0m scmf \u001b[39m=\u001b[39m SMP()\n\u001b[0;32m     30\u001b[0m \u001b[39m# Load header\u001b[39;00m\n\u001b[1;32m---> 31\u001b[0m scmf\u001b[39m.\u001b[39;49mloadSMH(path, verbose\u001b[39m=\u001b[39;49m\u001b[39mFalse\u001b[39;49;00m)\n\u001b[0;32m     32\u001b[0m \u001b[39m# Load data\u001b[39;00m\n\u001b[0;32m     33\u001b[0m scmf\u001b[39m.\u001b[39mloadSMP()\n",
      "File \u001b[1;32mc:\\Users\\SimenLab\\OneDrive\\Universitet\\PhD\\GitHub repos\\large_stack_prep\\scanmsupport\\scanm\\scanm_smh.py:43\u001b[0m, in \u001b[0;36mSMH.loadSMH\u001b[1;34m(self, fName, verbose)\u001b[0m\n\u001b[0;32m     41\u001b[0m \u001b[39m# Some first error checking\u001b[39;00m\n\u001b[0;32m     42\u001b[0m errC \u001b[39m=\u001b[39m ERR_Ok\n\u001b[1;32m---> 43\u001b[0m fPath \u001b[39m=\u001b[39m os\u001b[39m.\u001b[39;49mpath\u001b[39m.\u001b[39;49msplitext(fName)[\u001b[39m0\u001b[39m]\n\u001b[0;32m     44\u001b[0m fPathSMH \u001b[39m=\u001b[39m fPath \u001b[39m+\u001b[39m \u001b[39m\"\u001b[39m\u001b[39m.\u001b[39m\u001b[39m\"\u001b[39m \u001b[39m+\u001b[39m SCMIO_headerFileExtStr\n\u001b[0;32m     45\u001b[0m \u001b[39mif\u001b[39;00m \u001b[39mnot\u001b[39;00m os\u001b[39m.\u001b[39mpath\u001b[39m.\u001b[39mexists(fPathSMH):\n",
      "File \u001b[1;32mc:\\Users\\SimenLab\\miniconda3\\envs\\strfs\\lib\\ntpath.py:230\u001b[0m, in \u001b[0;36msplitext\u001b[1;34m(p)\u001b[0m\n\u001b[0;32m    229\u001b[0m \u001b[39mdef\u001b[39;00m \u001b[39msplitext\u001b[39m(p):\n\u001b[1;32m--> 230\u001b[0m     p \u001b[39m=\u001b[39m os\u001b[39m.\u001b[39;49mfspath(p)\n\u001b[0;32m    231\u001b[0m     \u001b[39mif\u001b[39;00m \u001b[39misinstance\u001b[39m(p, \u001b[39mbytes\u001b[39m):\n\u001b[0;32m    232\u001b[0m         \u001b[39mreturn\u001b[39;00m genericpath\u001b[39m.\u001b[39m_splitext(p, \u001b[39mb\u001b[39m\u001b[39m'\u001b[39m\u001b[39m\\\\\u001b[39;00m\u001b[39m'\u001b[39m, \u001b[39mb\u001b[39m\u001b[39m'\u001b[39m\u001b[39m/\u001b[39m\u001b[39m'\u001b[39m, \u001b[39mb\u001b[39m\u001b[39m'\u001b[39m\u001b[39m.\u001b[39m\u001b[39m'\u001b[39m)\n",
      "\u001b[1;31mTypeError\u001b[0m: expected str, bytes or os.PathLike object, not list"
     ]
    }
   ],
   "source": [
    "for path in paths:   \n",
    "    filesize_reducer(path)"
   ]
  }
 ],
 "metadata": {
  "kernelspec": {
   "display_name": "Python 3.9.12 64-bit ('anaconda3')",
   "language": "python",
   "name": "python3"
  },
  "language_info": {
   "codemirror_mode": {
    "name": "ipython",
    "version": 3
   },
   "file_extension": ".py",
   "mimetype": "text/x-python",
   "name": "python",
   "nbconvert_exporter": "python",
   "pygments_lexer": "ipython3",
   "version": "3.10.8"
  },
  "orig_nbformat": 4,
  "vscode": {
   "interpreter": {
    "hash": "34d70a8805e882956fe9eacc966a8343f39b782c5aa47ee152ef1353755d660b"
   }
  }
 },
 "nbformat": 4,
 "nbformat_minor": 2
}
