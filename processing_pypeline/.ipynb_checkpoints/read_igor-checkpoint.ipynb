{
 "cells": [
  {
   "cell_type": "code",
   "execution_count": 19,
   "id": "05baf922-edaa-4923-96fb-1366d631cfcb",
   "metadata": {},
   "outputs": [],
   "source": [
    "# -*- coding: utf-8 -*-\n",
    "#function to read igor files\n",
    "\n",
    "#import necessary libraries \n",
    "import matplotlib.pyplot as plt\n",
    "import seaborn as sns\n",
    "import numpy as np\n",
    "import os\n",
    "\n",
    "#import Andre's package from local file \"processing_pypeline\"\n",
    "import processing_pypeline.readScanM as rsm\n",
    "dir(rsm)\n",
    "class read_igor():\n",
    "    def collectData(file, triggermode):\n",
    "        list= []\n",
    "        #remove .smp/.smh\n",
    "        filename = file.replace('.smh','').replace('.smp', '')\n",
    "        if filename not in list:\n",
    "            #Grab header info from smh file\n",
    "            dicHeader = rsm.read_in_header(filePath = filename+'.smh')\n",
    "\n",
    "            #Grab information from the header\n",
    "            frameN = int(dicHeader[\"NumberOfFrames\"])\n",
    "            frameC = int(dicHeader[\"FrameCounter\"])\n",
    "            #Buffer between stimuli (mirror back into place)\n",
    "            frameB = int(dicHeader[\"StimBufPerFr\"])\n",
    "            frameH = int(dicHeader[\"FrameHeight\"])\n",
    "            frameW = int(dicHeader[\"FrameWidth\"])\n",
    "\n",
    "            #Read in binary data\n",
    "            #Output is dictionary where each key is one channel\n",
    "            #Channel1 = green channel, channel 3? /2 = triggers\n",
    "            output = rsm.read_in_data(filePath=filename+\".smp\", header=dicHeader,\n",
    "                                  readChan1=True, readChan2=True, \n",
    "                                  readChan3=True, readChan4=True)\n",
    "\n",
    "            #Convert data from serialized to frames\n",
    "            #Only for channel 1\n",
    "            frame1 = rsm.to_frame(output[\"chan1\"], frameTotal=frameN, \n",
    "                              frameCounter=frameC, frameBuffer=frameB, \n",
    "                              frameHeight=frameH, frameWidth=frameW)\n",
    "\n",
    "            #Convert data from channel 2 to detect triggers\n",
    "            frame2 = rsm.to_frame(output[\"chan2\"], frameTotal=frameN,\n",
    "                                  frameCounter=frameC, frameBuffer=frameB,\n",
    "                                  frameHeight=frameH, frameWidth=frameW)\n",
    "            #which trigger mode to use??\n",
    "            indexex, trigArray1 = rsm.trigger_detection(frameData=frame2,\n",
    "                                                triggerLevel=220,\n",
    "                                                triggerMode=triggermode)\n",
    "            list.append(filename)"
   ]
  },
  {
   "cell_type": "code",
   "execution_count": 20,
   "id": "30e73a10-b892-4973-9b14-35827e5d3642",
   "metadata": {},
   "outputs": [],
   "source": [
    "filename = 'C:/Users/Eira/OneDrive - University of Sussex/PhD/Experiments/2P data/20211123/dark1_256_UBGR3_025_50.smh'\n",
    "collectData(filename, 4)"
   ]
  },
  {
   "cell_type": "code",
   "execution_count": null,
   "id": "a6956d8b-c528-4240-8a9a-e18b2de8a363",
   "metadata": {},
   "outputs": [],
   "source": []
  }
 ],
 "metadata": {
  "kernelspec": {
   "display_name": "Python 3",
   "language": "python",
   "name": "python3"
  },
  "language_info": {
   "codemirror_mode": {
    "name": "ipython",
    "version": 3
   },
   "file_extension": ".py",
   "mimetype": "text/x-python",
   "name": "python",
   "nbconvert_exporter": "python",
   "pygments_lexer": "ipython3",
   "version": "3.8.8"
  }
 },
 "nbformat": 4,
 "nbformat_minor": 5
}
