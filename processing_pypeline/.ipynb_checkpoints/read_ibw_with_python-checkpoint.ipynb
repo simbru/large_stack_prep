{
 "cells": [
  {
   "cell_type": "code",
   "execution_count": 35,
   "metadata": {
    "collapsed": true
   },
   "outputs": [],
   "source": [
    "#set plots to show inline\n",
    "%matplotlib inline\n",
    "#import necessary libraries\n",
    "import matplotlib.pyplot as plt\n",
    "import seaborn as sns\n",
    "import numpy as np\n",
    "import os\n",
    "#import igor library. \n",
    "#if you are running Anaconda this can be installed via command line: \"pip install igor\".\n",
    "# the package can be found here: https://pypi.python.org/pypi/igor\n",
    "import igor\n"
   ]
  },
  {
   "cell_type": "code",
   "execution_count": 10,
   "metadata": {
    "collapsed": false
   },
   "outputs": [],
   "source": [
    "#get the current directory and add the filename\n",
    "filename = os.getcwd()+\"\\\\Q0_Roi.ibw\"\n"
   ]
  },
  {
   "cell_type": "code",
   "execution_count": 39,
   "metadata": {
    "collapsed": false
   },
   "outputs": [],
   "source": [
    "#use the 'igor' library to read in the data. this creates a dictionary containing several keys and 'subkeys'\n",
    "data = igor.binarywave.load(filename)\n"
   ]
  },
  {
   "cell_type": "code",
   "execution_count": 42,
   "metadata": {
    "collapsed": false
   },
   "outputs": [
    {
     "data": {
      "text/plain": [
       "dict_keys(['wave', 'version'])"
      ]
     },
     "execution_count": 42,
     "metadata": {},
     "output_type": "execute_result"
    }
   ],
   "source": [
    "# here are the keys\n",
    "data.keys()"
   ]
  },
  {
   "cell_type": "code",
   "execution_count": 43,
   "metadata": {
    "collapsed": false
   },
   "outputs": [
    {
     "data": {
      "text/plain": [
       "{'version': 5,\n",
       " 'wave': {'bin_header': {'checksum': 21615,\n",
       "   'dataEUnitsSize': 0,\n",
       "   'dimEUnitsSize': array([0, 0, 0, 0]),\n",
       "   'dimLabelsSize': array([0, 0, 0, 0]),\n",
       "   'formulaSize': 0,\n",
       "   'noteSize': 0,\n",
       "   'optionsSize1': 0,\n",
       "   'optionsSize2': 0,\n",
       "   'sIndicesSize': 0,\n",
       "   'wfmSize': 16704},\n",
       "  'data_units': b'',\n",
       "  'dimension_units': b'',\n",
       "  'formula': b'',\n",
       "  'labels': [[], [], [], []],\n",
       "  'note': b'',\n",
       "  'sIndices': array([], dtype=float64),\n",
       "  'wData': array([[  1.,   1.,   1., ...,   1.,   1.,   1.],\n",
       "         [  1.,   1.,   1., ...,   1.,   1.,   1.],\n",
       "         [  1.,   1.,   1., ...,   1.,   1.,   1.],\n",
       "         ..., \n",
       "         [ -4.,   1.,   1., ...,   1.,   1.,   1.],\n",
       "         [  1.,   1.,   1., ...,   1.,   1.,   1.],\n",
       "         [  1.,   1.,   1., ...,   1.,   1., -87.]], dtype=float32),\n",
       "  'wave_header': {'aModified': 3,\n",
       "   'bname': b'Roi',\n",
       "   'botFullScale': 0.0,\n",
       "   'creationDate': 3460467370,\n",
       "   'dFolder': 102891752,\n",
       "   'dLock': 0,\n",
       "   'dataEUnits': 0,\n",
       "   'dataUnits': array([b'', b'', b'', b''], \n",
       "         dtype='|S1'),\n",
       "   'depID': 936,\n",
       "   'dimEUnits': array([0, 0, 0, 0]),\n",
       "   'dimLabels': array([0, 0, 0, 0]),\n",
       "   'dimUnits': array([[b'', b'', b'', b''],\n",
       "          [b'', b'', b'', b''],\n",
       "          [b'', b'', b'', b''],\n",
       "          [b'', b'', b'', b'']], \n",
       "         dtype='|S1'),\n",
       "   'fileName': 0,\n",
       "   'formula': 0,\n",
       "   'fsValid': 0,\n",
       "   'kindBits': b'\\x00',\n",
       "   'modDate': 3460467370,\n",
       "   'nDim': array([64, 64,  0,  0]),\n",
       "   'next': 102898856,\n",
       "   'npnts': 4096,\n",
       "   'sIndices': 0,\n",
       "   'sfA': array([ 1.,  1.,  1.,  1.]),\n",
       "   'sfB': array([ 0.,  0.,  0.,  0.]),\n",
       "   'srcFldr': 0,\n",
       "   'swModified': 1,\n",
       "   'topFullScale': 0.0,\n",
       "   'type': 2,\n",
       "   'useBits': b'\\x00',\n",
       "   'wModified': 1,\n",
       "   'waveNoteH': 0,\n",
       "   'whUnused': array([196610,      2,      0,      0,      0,      0,      0,      0,\n",
       "               0,      0,      0,      0,      0,      0,      0,      0]),\n",
       "   'whVersion': 1,\n",
       "   'whpad1': array([b'', b'', b'', b'\\x03', b'\\x03', b'\\x03'], \n",
       "         dtype='|S1'),\n",
       "   'whpad2': 0,\n",
       "   'whpad3': 1253,\n",
       "   'whpad4': 6}}}"
      ]
     },
     "execution_count": 43,
     "metadata": {},
     "output_type": "execute_result"
    }
   ],
   "source": [
    "#calling 'data' will display the whole dictionary structure and its contents. \n",
    "data"
   ]
  },
  {
   "cell_type": "code",
   "execution_count": 44,
   "metadata": {
    "collapsed": false
   },
   "outputs": [
    {
     "data": {
      "text/plain": [
       "array([[  1.,   1.,   1., ...,   1.,   1.,   1.],\n",
       "       [  1.,   1.,   1., ...,   1.,   1.,   1.],\n",
       "       [  1.,   1.,   1., ...,   1.,   1.,   1.],\n",
       "       ..., \n",
       "       [ -4.,   1.,   1., ...,   1.,   1.,   1.],\n",
       "       [  1.,   1.,   1., ...,   1.,   1.,   1.],\n",
       "       [  1.,   1.,   1., ...,   1.,   1., -87.]], dtype=float32)"
      ]
     },
     "execution_count": 44,
     "metadata": {},
     "output_type": "execute_result"
    }
   ],
   "source": [
    "#I'm guessing most people will be interested in 'wData', which is loaded by the library as numpy array\n",
    "data['wave']['wData']"
   ]
  },
  {
   "cell_type": "code",
   "execution_count": 45,
   "metadata": {
    "collapsed": false
   },
   "outputs": [
    {
     "data": {
      "text/plain": [
       "<matplotlib.image.AxesImage at 0xb8dd2b0>"
      ]
     },
     "execution_count": 45,
     "metadata": {},
     "output_type": "execute_result"
    },
    {
     "data": {
      "image/png": "[encoded data removed]",
      "text/plain": [
       "<matplotlib.figure.Figure at 0xb87ae10>"
      ]
     },
     "metadata": {},
     "output_type": "display_data"
    }
   ],
   "source": [
    "#we can also display it..\n",
    "plt.matshow(data['wave']['wData'])"
   ]
  },
  {
   "cell_type": "code",
   "execution_count": null,
   "metadata": {
    "collapsed": true
   },
   "outputs": [],
   "source": []
  }
 ],
 "metadata": {
  "kernelspec": {
   "display_name": "Python 3",
   "language": "python",
   "name": "python3"
  },
  "language_info": {
   "codemirror_mode": {
    "name": "ipython",
    "version": 3
   },
   "file_extension": ".py",
   "mimetype": "text/x-python",
   "name": "python",
   "nbconvert_exporter": "python",
   "pygments_lexer": "ipython3",
   "version": "3.5.1"
  }
 },
 "nbformat": 4,
 "nbformat_minor": 0
}
