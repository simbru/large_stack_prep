{
 "cells": [
  {
   "cell_type": "code",
   "execution_count": 1,
   "id": "06af065e",
   "metadata": {},
   "outputs": [],
   "source": [
    "%load_ext autoreload\n",
    "%autoreload 2\n",
    "%matplotlib inline "
   ]
  },
  {
   "cell_type": "code",
   "execution_count": 2,
   "id": "7144fca0",
   "metadata": {},
   "outputs": [],
   "source": [
    "from matplotlib import pyplot as plt\n",
    "from matplotlib import animation\n",
    "from IPython.display import HTML\n",
    "\n",
    "from scanmsupport.scanm.scanm_smp import SMP"
   ]
  },
  {
   "cell_type": "code",
   "execution_count": 67,
   "id": "e189aacb",
   "metadata": {},
   "outputs": [],
   "source": [
    "scmf = SMP()"
   ]
  },
  {
   "cell_type": "code",
   "execution_count": 80,
   "id": "2c6aa19b-d9d4-46d1-8b4d-595f7b1711bf",
   "metadata": {},
   "outputs": [
    {
     "name": "stdout",
     "output_type": "stream",
     "text": [
      "Processing file `D:\\Igor analyses\\231005\\Recovery test\\1_1__SWN200_1.smh`\n",
      "Loading pre-header ...\n",
      "Loading parameters (key-value pairs) ...\n",
      "->     0 String, ComputerName = cssd901260;\n",
      "->     1 String, UserName = TestAccount;\n",
      "->     2 String, OriginalPixelDataFileName = C:\\Users\\TestAccount\\Documents\\WaveMetrics\\Igor Pro 6 User Files\\ScanM_Data\\1_1__SWN200_1.smp;\n",
      "->     3 String, DateStamp = 2023-10-5;\n",
      "->     4 String, TimeStamp = 17-30-49-91;\n",
      "->     5 String, ScanMproductVersionAndTargetOS = 0.1.36.63_4;\n",
      "->     6 String, CallingProcessPath = C:\\Program Files (x86)\\WaveMetrics\\Igor Pro Folder\\Igor.exe;\n",
      "->     7 String, CallingProcessVersion = 6.3.7.2;\n",
      "->     8 UINT32, PixelSizeInBytes = 2;\n",
      "->     9 UINT32, StimulusChannelMask = 15;\n",
      "->    10 REAL32, MinVoltsAO = -4.000000;\n",
      "->    11 REAL32, MaxVoltsAO = 4.000000;\n",
      "->    12 UINT32, MaxStimulusBufferMapLength = 1;\n",
      "->    13 UINT32, Channel_0_StimulusBufferMapEntry_#0 = 0;\n",
      "->    14 UINT32, Channel_1_StimulusBufferMapEntry_#0 = 1;\n",
      "->    15 UINT32, Channel_2_StimulusBufferMapEntry_#0 = 2;\n",
      "->    16 UINT32, Channel_3_StimulusBufferMapEntry_#0 = 3;\n",
      "->    17 UINT32, NumberOfStimulusBuffers = 4;\n",
      "->    18 UINT32, StimulusBufferLength_#0 = 12800;\n",
      "->    19 UINT32, StimulusBufferLength_#1 = 12800;\n",
      "->    20 UINT32, StimulusBufferLength_#2 = 12800;\n",
      "->    21 UINT32, StimulusBufferLength_#3 = 12800;\n",
      "->    22 UINT32, InputChannelMask = 5;\n",
      "->    23 REAL32, Channel_0_TargetedStimulusDuration_µs = 64000.000000;\n",
      "->    24 REAL32, Channel_1_TargetedStimulusDuration_µs = 64000.000000;\n",
      "->    25 REAL32, Channel_2_TargetedStimulusDuration_µs = 64000.000000;\n",
      "->    26 REAL32, Channel_3_TargetedStimulusDuration_µs = 64000.000000;\n",
      "->    27 REAL32, AO_A_Channel_0_RealStimulusDuration_µs = 64000.000000;\n",
      "->    28 REAL32, AO_A_Channel_1_RealStimulusDuration_µs = 64000.000000;\n",
      "->    29 REAL32, AO_A_Channel_2_RealStimulusDuration_µs = 64000.000000;\n",
      "->    30 REAL32, AO_A_Channel_3_RealStimulusDuration_µs = 64000.000000;\n",
      "->    31 REAL32, TargetedPixelDuration_µs = 5.000000;\n",
      "->    32 REAL32, RealPixelDuration_µs = 5.000000;\n",
      "->    33 UINT32, PixelBuffer_#0_Length = 3200;\n",
      "->    34 UINT32, PixelBuffer_#1_Length = 3200;\n",
      "->    35 UINT32, Oversampling_Factor = 10;\n",
      "->    36 REAL32, MinVoltsAI = -1.000000;\n",
      "->    37 REAL32, MaxVoltsAI = 5.000000;\n",
      "->    38 UINT32, NumberOfFrames = 50000;\n",
      "->    39 UINT32,ScanMode=0;\n",
      "->    40 UINT32,FrameWidth=200;\n",
      "->    41 UINT32,FrameHeight=64;\n",
      "->    42 String,ScanPathFunc=XYScan2|12800|200|64|40|32|0|1;\n",
      "->    43 UINT32,PixRetraceLen=40;\n",
      "->    44 UINT32,XPixLineOffs=32;\n",
      "->    45 UINT32,ChunksPerFrame=4;\n",
      "->    46 UINT32,ScanType=10;\n",
      "->    47 UINT32,NSubPixOversamp=10;\n",
      "->    48 REAL32,Zoom=1.5;\n",
      "->    49 REAL32,Angle_deg=355.42;\n",
      "->    50 String,IgorGUIVer=0.2.00.00;\n",
      "->    51 REAL32,XCoord_um=-1.1083e+05;\n",
      "->    52 REAL32,YCoord_um=-1.0371e+05;\n",
      "->    53 REAL32,ZCoord_um=-63247;\n",
      "->    54 REAL32,ZStep_um=1;\n",
      "->    55 UINT32,NFrPerStep=1;\n",
      "->    56 REAL32,XOffset_V=0;\n",
      "->    57 REAL32,YOffset_V=0;\n",
      "->    58 UINT32,dZPixels=1;\n",
      "->    59 UINT32,ZPixLineOffs=0;\n",
      "->    60 String,Comment=n/a;\n",
      "->    61 UINT32,SetupID=1;\n",
      "->    62 UINT32,LaserWavelength_nm=0;\n",
      "->    63 String,Objective=n/a;\n",
      "->    64 REAL32,AspectRatioFrame=1;\n",
      "->    65 UINT32,StimBufPerFr=1;\n",
      "->    66 REAL32,zoomFactorZ=1;\n",
      "->    67 REAL32,offsetZ_V=0;\n",
      "->    68 REAL32,zeroZ_V=0;\n",
      "->    69 UINT32,YPixLineOffs=0;\n",
      "->    70 UINT32,iChFastScan=0;\n",
      "->    71 UINT32,dxFrDecoded=0;\n",
      "->    72 UINT32,dyFrDecoded=0;\n",
      "->    73 UINT32,dzFrDecoded=0;\n",
      "->    74 REAL32,trajDefVRange_V=0;\n",
      "->    75 UINT32,nTrajParams=0;\n",
      "->    76 UINT32, FrameCounter =             4712;\n",
      "->    77 UINT32, UnusedValue =          1404800;\n",
      "->    78 UINT64, HeaderLengthInValuePairs =               80;\n",
      "->    79 UINT64, Header_length_in_bytes =            6010;\n",
      "80 key-value pair(s) found\n",
      "->     0 String, ComputerName = cssd901260;\n",
      "->     1 String, UserName = TestAccount;\n",
      "->     2 String, OriginalPixelDataFileName = C:\\Users\\TestAccount\\Documents\\WaveMetrics\\Igor Pro 6 User Files\\ScanM_Data\\1_1__SWN200_1.smp;\n",
      "->     3 String, DateStamp = 2023-10-5;\n",
      "->     4 String, TimeStamp = 17-30-49-91;\n",
      "->     5 String, ScanMproductVersionAndTargetOS = 0.1.36.63_4;\n",
      "->     6 String, CallingProcessPath = C:\\Program Files (x86)\\WaveMetrics\\Igor Pro Folder\\Igor.exe;\n",
      "->     7 String, CallingProcessVersion = 6.3.7.2;\n",
      "->     8 UINT32, PixelSizeInBytes = 2;\n",
      "->     9 UINT32, StimulusChannelMask = 15;\n",
      "->    10 REAL32, MinVoltsAO = -4.000000;\n",
      "->    11 REAL32, MaxVoltsAO = 4.000000;\n",
      "->    12 UINT32, MaxStimulusBufferMapLength = 1;\n",
      "->    13 UINT32, Channel_0_StimulusBufferMapEntry_#0 = 0;\n",
      "->    14 UINT32, Channel_1_StimulusBufferMapEntry_#0 = 1;\n",
      "->    15 UINT32, Channel_2_StimulusBufferMapEntry_#0 = 2;\n",
      "->    16 UINT32, Channel_3_StimulusBufferMapEntry_#0 = 3;\n",
      "->    17 UINT32, NumberOfStimulusBuffers = 4;\n",
      "->    18 UINT32, StimulusBufferLength_#0 = 12800;\n",
      "->    19 UINT32, StimulusBufferLength_#1 = 12800;\n",
      "->    20 UINT32, StimulusBufferLength_#2 = 12800;\n",
      "->    21 UINT32, StimulusBufferLength_#3 = 12800;\n",
      "->    22 UINT32, InputChannelMask = 5;\n",
      "->    23 REAL32, Channel_0_TargetedStimulusDuration_µs = 64000.000000;\n",
      "->    24 REAL32, Channel_1_TargetedStimulusDuration_µs = 64000.000000;\n",
      "->    25 REAL32, Channel_2_TargetedStimulusDuration_µs = 64000.000000;\n",
      "->    26 REAL32, Channel_3_TargetedStimulusDuration_µs = 64000.000000;\n",
      "->    27 REAL32, AO_A_Channel_0_RealStimulusDuration_µs = 64000.000000;\n",
      "->    28 REAL32, AO_A_Channel_1_RealStimulusDuration_µs = 64000.000000;\n",
      "->    29 REAL32, AO_A_Channel_2_RealStimulusDuration_µs = 64000.000000;\n",
      "->    30 REAL32, AO_A_Channel_3_RealStimulusDuration_µs = 64000.000000;\n",
      "->    31 REAL32, TargetedPixelDuration_µs = 5.000000;\n",
      "->    32 REAL32, RealPixelDuration_µs = 5.000000;\n",
      "->    33 UINT32, PixelBuffer_#0_Length = 3200;\n",
      "->    34 UINT32, PixelBuffer_#1_Length = 3200;\n",
      "->    35 UINT32, Oversampling_Factor = 10;\n",
      "->    36 REAL32, MinVoltsAI = -1.000000;\n",
      "->    37 REAL32, MaxVoltsAI = 5.000000;\n",
      "->    38 UINT32, NumberOfFrames = 50000;\n",
      "->    39 UINT32,ScanMode=0;\n",
      "->    40 UINT32,FrameWidth=200;\n",
      "->    41 UINT32,FrameHeight=64;\n",
      "->    42 String,ScanPathFunc=XYScan2|12800|200|64|40|32|0|1;\n",
      "->    43 UINT32,PixRetraceLen=40;\n",
      "->    44 UINT32,XPixLineOffs=32;\n",
      "->    45 UINT32,ChunksPerFrame=4;\n",
      "->    46 UINT32,ScanType=10;\n",
      "->    47 UINT32,NSubPixOversamp=10;\n",
      "->    48 REAL32,Zoom=1.5;\n",
      "->    49 REAL32,Angle_deg=355.42;\n",
      "->    50 String,IgorGUIVer=0.2.00.00;\n",
      "->    51 REAL32,XCoord_um=-1.1083e+05;\n",
      "->    52 REAL32,YCoord_um=-1.0371e+05;\n",
      "->    53 REAL32,ZCoord_um=-63247;\n",
      "->    54 REAL32,ZStep_um=1;\n",
      "->    55 UINT32,NFrPerStep=1;\n",
      "->    56 REAL32,XOffset_V=0;\n",
      "->    57 REAL32,YOffset_V=0;\n",
      "->    58 UINT32,dZPixels=1;\n",
      "->    59 UINT32,ZPixLineOffs=0;\n",
      "->    60 String,Comment=n/a;\n",
      "->    61 UINT32,SetupID=1;\n",
      "->    62 UINT32,LaserWavelength_nm=0;\n",
      "->    63 String,Objective=n/a;\n",
      "->    64 REAL32,AspectRatioFrame=1;\n",
      "->    65 UINT32,StimBufPerFr=1;\n",
      "->    66 REAL32,zoomFactorZ=1;\n",
      "->    67 REAL32,offsetZ_V=0;\n",
      "->    68 REAL32,zeroZ_V=0;\n",
      "->    69 UINT32,YPixLineOffs=0;\n",
      "->    70 UINT32,iChFastScan=0;\n",
      "->    71 UINT32,dxFrDecoded=0;\n",
      "->    72 UINT32,dyFrDecoded=0;\n",
      "->    73 UINT32,dzFrDecoded=0;\n",
      "->    74 REAL32,trajDefVRange_V=0;\n",
      "->    75 UINT32,nTrajParams=0;\n",
      "->    76 UINT32, FrameCounter =             4712;\n",
      "->    77 UINT32, UnusedValue =          1404800;\n",
      "->    78 UINT64, HeaderLengthInValuePairs =               80;\n",
      "->    79 UINT64, Header_length_in_bytes =            6010;\n",
      "Correct parameters for older files ...\n",
      "71 parameter(s) extracted\n",
      "Done.\n"
     ]
    }
   ],
   "source": [
    "# fname = \"scanmsupport\\data\\M1_LR_GCL4_chirp\"\n",
    "fname_working = r\"D:\\Igor analyses\\231005\\0_3_FFF_Colour_1.smh\"\n",
    "fname = r\"D:\\Igor analyses\\231005\\1_1_SWN200_1a.smh\"\n",
    "fname = r\"D:\\Igor analyses\\231005\\Recovery test\\1_1__SWN200_1.smh\"\n",
    "#fname = \"scanmsupport\\data\\Q0_DN.smp\"\n",
    "_ = scmf.loadSMH(fname, verbose=True)"
   ]
  },
  {
   "cell_type": "code",
   "execution_count": 81,
   "id": "4bfb2556-8052-4600-8c86-5f8f37afa62e",
   "metadata": {},
   "outputs": [
    {
     "name": "stdout",
     "output_type": "stream",
     "text": [
      "Processing file `D:\\Igor analyses\\231005\\Recovery test\\1_1__SWN200_1.smp`\n",
      "Loading post-header ...\n",
      "2 AI channel(s) (0b101)\n",
      "181152 of 50000 buffer(s) (each 3200 pixels) per channel\n",
      "181152 pixel bufs of 181152 read.\n",
      "Done.\n"
     ]
    }
   ],
   "source": [
    "_ = scmf.loadSMP()"
   ]
  },
  {
   "cell_type": "code",
   "execution_count": 78,
   "id": "464a8815",
   "metadata": {},
   "outputs": [
    {
     "data": {
      "text/plain": [
       "{'fileType': 'SMH',\n",
       " 'GUID': 'b1f7d901308d5fae2923be84e16cd6ae',\n",
       " 'headerLen_byte': 6010,\n",
       " 'headerLen_values': 80,\n",
       " 'headerStart_bytes': 64,\n",
       " 'pixDataLen_byte': 2575630336,\n",
       " 'analogDataLen_byte': 0}"
      ]
     },
     "execution_count": 78,
     "metadata": {},
     "output_type": "execute_result"
    }
   ],
   "source": [
    "import scanmsupport.scanm.scanm_global as scanmglobal\n",
    "scanmglobal.scm_load_pre_header(fname)"
   ]
  },
  {
   "cell_type": "code",
   "execution_count": 79,
   "id": "80d8264d",
   "metadata": {},
   "outputs": [
    {
     "data": {
      "text/plain": [
       "{'fileType': 'SMH',\n",
       " 'GUID': '9ef7d901b07f9f552923be84e16cd6ae',\n",
       " 'headerLen_byte': 6016,\n",
       " 'headerLen_values': 80,\n",
       " 'headerStart_bytes': 64,\n",
       " 'pixDataLen_byte': 2575630336,\n",
       " 'analogDataLen_byte': 76953600}"
      ]
     },
     "execution_count": 79,
     "metadata": {},
     "output_type": "execute_result"
    }
   ],
   "source": [
    "scanmglobal.scm_load_pre_header(fname_working)"
   ]
  },
  {
   "cell_type": "code",
   "execution_count": null,
   "id": "15926482",
   "metadata": {},
   "outputs": [],
   "source": []
  },
  {
   "cell_type": "code",
   "execution_count": 66,
   "id": "4cd16b8a",
   "metadata": {},
   "outputs": [
    {
     "name": "stdout",
     "output_type": "stream",
     "text": [
      "{'fileType': 'SMH', 'GUID': 'b1f7d901308d5fae2923be84e16cd6ae', 'headerLen_byte': 6010, 'headerLen_values': 80, 'headerStart_bytes': 64, 'pixDataLen_byte': 2575630336, 'analogDataLen_byte': 0}\n"
     ]
    }
   ],
   "source": [
    "    d = dict()\n",
    "    # Open file in binary mode to get pre-header\n",
    "    with open(r\"D:\\Igor analyses\\231005\\1_1_SWN200_1a.smh\", \"rb\") as f:\n",
    "        f.seek(0)\n",
    "        buf = f.read(64)\n",
    "        hdr = struct.unpack(\"4H16s5Q\", buf)\n",
    "        d.update({\"fileType\": bytearray(hdr[0:3]).decode(\"utf-8\")})\n",
    "        d.update({\"GUID\": bytearray(hdr[4]).hex()})\n",
    "        d.update({\"headerLen_byte\": hdr[5]})\n",
    "        d.update({\"headerLen_values\": hdr[6]})\n",
    "        d.update({\"headerStart_bytes\": hdr[7]})\n",
    "        d.update({\"pixDataLen_byte\": hdr[8]})\n",
    "        d.update({\"analogDataLen_byte\": hdr[9]})\n",
    "    print(d)"
   ]
  },
  {
   "cell_type": "code",
   "execution_count": 45,
   "id": "898c5dd4",
   "metadata": {},
   "outputs": [
    {
     "name": "stdout",
     "output_type": "stream",
     "text": [
      "(83, 77, 72)\n",
      "SMH\n",
      "9ef7d901b07f9f552923be84e16cd6ae\n"
     ]
    }
   ],
   "source": [
    "with open(r\"D:\\Igor analyses\\231005\\0_3_FFF_Colour_1.smh\", \"rb\") as f:\n",
    "    f.seek(0)\n",
    "    buf = f.read(64)\n",
    "    hdr = struct.unpack(\"4H16s5Q\", buf)\n",
    "    print(hdr[0:3])\n",
    "    print(bytearray(hdr[0:3]).decode(\"utf-8\"))\n",
    "    print(bytearray(hdr[4]).hex())"
   ]
  },
  {
   "cell_type": "code",
   "execution_count": 10,
   "id": "4026f4dd-5428-4ea5-8ac3-e73e1cedf7e9",
   "metadata": {},
   "outputs": [
    {
     "name": "stdout",
     "output_type": "stream",
     "text": [
      "Summary\n",
      "-------\n",
      "Scan    : mode, type   : XYImage (0), 10\n",
      "Pixel   : size         : 2 bytes/pixel\n",
      "          duration     : 5.0 us (5.0)\n",
      "Frame   : x-y size     : 200 x 64 pixels\n",
      "          x-offset     : 32 pixels\n",
      "          x-retrace    : 40 pixels\n",
      "          count        : n/a\n",
      "          organisation : 4 pixel buffers/frame\n",
      "Stimulus: # of buffers : 4\n",
      "          mask         : 1111\n",
      "Input   : # of channels: 2\n",
      "          mask         : 0101\n",
      "Zoom factor            : 1.50\n"
     ]
    }
   ],
   "source": [
    "scmf.summary()"
   ]
  },
  {
   "cell_type": "code",
   "execution_count": 14,
   "id": "a53d4486-f20d-42b2-81f3-215755d4f5ea",
   "metadata": {},
   "outputs": [
    {
     "data": {
      "text/plain": [
       "{'ComputerName': [numpy.character, 1, 'cssd901260'],\n",
       " 'UserName': [numpy.character, 1, 'TestAccount'],\n",
       " 'OriginalPixelDataFileName': [numpy.character,\n",
       "  1,\n",
       "  'C:\\\\Users\\\\TestAccount\\\\Documents\\\\WaveMetrics\\\\Igor Pro 6 User Files\\\\ScanM_Data\\\\0_0_ColorSWN_200_0.smp'],\n",
       " 'DateStamp': [numpy.character, 1, '2023-6-14'],\n",
       " 'TimeStamp': [numpy.character, 1, '15-45-38-70'],\n",
       " 'ScanMproductVersionAndTargetOS': [numpy.character, 1, '0.1.36.63_4'],\n",
       " 'CallingProcessPath': [numpy.character,\n",
       "  1,\n",
       "  'C:\\\\Program Files (x86)\\\\WaveMetrics\\\\Igor Pro Folder\\\\Igor.exe'],\n",
       " 'CallingProcessVersion': [numpy.character, 1, '6.3.7.2'],\n",
       " 'PixelSizeInBytes': [numpy.uint32, 1, 2],\n",
       " 'StimulusChannelMask': [numpy.uint32, 1, 15],\n",
       " 'MinVoltsAO': [numpy.float64, 1, -4.0],\n",
       " 'MaxVoltsAO': [numpy.float64, 1, 4.0],\n",
       " 'MaxStimulusBufferMapLength': [numpy.uint32, 1, 1],\n",
       " 'NumberOfStimulusBuffers': [numpy.uint32, 1, 4],\n",
       " 'InputChannelMask': [numpy.uint32, 1, 5],\n",
       " 'TargetedPixelDuration_µs': [numpy.float64, 1, 5.0],\n",
       " 'RealPixelDuration_µs': [numpy.float64, 1, 5.0],\n",
       " 'Oversampling_Factor': [numpy.uint32, 1, 10],\n",
       " 'MinVoltsAI': [numpy.float64, 1, -1.0],\n",
       " 'MaxVoltsAI': [numpy.float64, 1, 5.0],\n",
       " 'NumberOfFrames': [numpy.uint32, 1, 50000],\n",
       " 'ScanMode': [numpy.uint32, 1, 0],\n",
       " 'FrameWidth': [numpy.uint32, 1, 200],\n",
       " 'FrameHeight': [numpy.uint32, 1, 64],\n",
       " 'ScanPathFunc': [numpy.character,\n",
       "  8,\n",
       "  ['XYScan2', '12800', '200', '64', '40', '32', '0', '1']],\n",
       " 'PixRetraceLen': [numpy.uint32, 1, '40'],\n",
       " 'XPixLineOffs': [numpy.uint32, 1, '32'],\n",
       " 'ChunksPerFrame': [numpy.uint32, 1, 4],\n",
       " 'ScanType': [numpy.uint32, 1, 10],\n",
       " 'NSubPixOversamp': [numpy.uint32, 1, 10],\n",
       " 'Zoom': [numpy.float64, 1, 1.35],\n",
       " 'Angle_deg': [numpy.float64, 1, 265.71],\n",
       " 'IgorGUIVer': [numpy.character, 1, '0.2.00.00'],\n",
       " 'XCoord_um': [numpy.float64, 1, -65489.0],\n",
       " 'YCoord_um': [numpy.float64, 1, -50356.0],\n",
       " 'ZCoord_um': [numpy.float64, 1, -24236.0],\n",
       " 'ZStep_um': [numpy.float64, 1, 1.0],\n",
       " 'NFrPerStep': [numpy.uint32, 1, 1],\n",
       " 'XOffset_V': [numpy.float64, 1, 0.0],\n",
       " 'YOffset_V': [numpy.float64, 1, 0.0],\n",
       " 'dZPixels': [numpy.uint32, 1, 1],\n",
       " 'ZPixLineOffs': [numpy.uint32, 1, 0],\n",
       " 'Comment': [numpy.character, 1, 'n/a'],\n",
       " 'SetupID': [numpy.uint32, 1, 1],\n",
       " 'LaserWavelength_nm': [numpy.uint32, 1, 0],\n",
       " 'Objective': [numpy.character, 1, 'n/a'],\n",
       " 'AspectRatioFrame': [numpy.float64, 1, 1],\n",
       " 'StimBufPerFr': [numpy.uint32, 1, 1],\n",
       " 'zoomFactorZ': [numpy.float64, 1, 1.0],\n",
       " 'offsetZ_V': [numpy.float64, 1, 0.0],\n",
       " 'zeroZ_V': [numpy.float64, 1, 0.0],\n",
       " 'YPixLineOffs': [numpy.uint32, 1, 0],\n",
       " 'iChFastScan': [numpy.uint32, 1, 0],\n",
       " 'dxFrDecoded': [numpy.uint32, 1, 200],\n",
       " 'dyFrDecoded': [numpy.uint32, 1, 64],\n",
       " 'dzFrDecoded': [numpy.uint32, 1, 1],\n",
       " 'trajDefVRange_V': [numpy.float64, 1, 0.0],\n",
       " 'nTrajParams': [numpy.uint32, 1, 0],\n",
       " 'FrameCounter': [numpy.uint32, 1, 36996],\n",
       " 'UnusedValue': [numpy.uint32, 1, 1097600],\n",
       " 'HeaderLengthInValuePairs': [numpy.uint64, 1, 80],\n",
       " 'Header_length_in_bytes': [numpy.uint64, 1, 6002],\n",
       " 'StimBufLenList': [numpy.uint32, 4, array([12800, 12800, 12800, 12800])],\n",
       " 'TargetedStimDurList': [numpy.float64,\n",
       "  4,\n",
       "  array([64000., 64000., 64000., 64000.])],\n",
       " 'RealStimDurList': [numpy.float64,\n",
       "  4,\n",
       "  array([64000., 64000., 64000., 64000.])],\n",
       " 'StimBufMapEntries': [numpy.uint64,\n",
       "  (32, 128),\n",
       "  array([[0, 0, 0, ..., 0, 0, 0],\n",
       "         [1, 0, 0, ..., 0, 0, 0],\n",
       "         [2, 0, 0, ..., 0, 0, 0],\n",
       "         ...,\n",
       "         [0, 0, 0, ..., 0, 0, 0],\n",
       "         [0, 0, 0, ..., 0, 0, 0],\n",
       "         [0, 0, 0, ..., 0, 0, 0]])],\n",
       " 'NumberOfInputChans': [numpy.uint32, 1, 2],\n",
       " 'InChan_PixBufLenList': [numpy.uint32, 2, array([3200, 3200])],\n",
       " 'nImgPerFr': [numpy.uint32, 1, 1],\n",
       " 'NumberOfPixBufsSet': [numpy.uint32, 1, 50000],\n",
       " 'PixBufCounter': [numpy.uint32, 1, 36996]}"
      ]
     },
     "execution_count": 14,
     "metadata": {},
     "output_type": "execute_result"
    }
   ],
   "source": [
    "scmf._kvPairDict"
   ]
  },
  {
   "cell_type": "code",
   "execution_count": 18,
   "id": "708e0576-1d87-4c2b-9a7a-545885c1f098",
   "metadata": {},
   "outputs": [
    {
     "data": {
      "image/png": "[encoded data removed]",
      "text/plain": [
       "<Figure size 640x480 with 1 Axes>"
      ]
     },
     "metadata": {},
     "output_type": "display_data"
    }
   ],
   "source": [
    "fr = scmf.getData(ch=0, crop=True)[1000]\n",
    "# not_crop = scmf.getData(0)\n",
    "plt.imshow(fr, interpolation='nearest')\n",
    "plt.show()"
   ]
  },
  {
   "cell_type": "code",
   "execution_count": 20,
   "id": "38e2073c-e070-41a0-addd-ca4454e1256e",
   "metadata": {},
   "outputs": [
    {
     "data": {
      "image/png": "[encoded data removed]",
      "text/plain": [
       "<Figure size 640x480 with 1 Axes>"
      ]
     },
     "metadata": {},
     "output_type": "display_data"
    }
   ],
   "source": [
    "fr = scmf.getData(ch=2, crop=True)[0]\n",
    "\n",
    "plt.imshow(fr, interpolation='nearest')\n",
    "plt.show()"
   ]
  },
  {
   "cell_type": "code",
   "execution_count": 23,
   "id": "d0eb5558",
   "metadata": {},
   "outputs": [
    {
     "data": {
      "text/plain": [
       "scanmsupport.scanm.scanm_smp.SMP"
      ]
     },
     "execution_count": 23,
     "metadata": {},
     "output_type": "execute_result"
    }
   ],
   "source": [
    "type(scmf)"
   ]
  },
  {
   "cell_type": "code",
   "execution_count": null,
   "id": "376d1db9-6e06-420b-8dcb-6166501b3617",
   "metadata": {},
   "outputs": [],
   "source": []
  }
 ],
 "metadata": {
  "kernelspec": {
   "display_name": "Python 3 (ipykernel)",
   "language": "python",
   "name": "python3"
  },
  "language_info": {
   "codemirror_mode": {
    "name": "ipython",
    "version": 3
   },
   "file_extension": ".py",
   "mimetype": "text/x-python",
   "name": "python",
   "nbconvert_exporter": "python",
   "pygments_lexer": "ipython3",
   "version": "3.10.8"
  }
 },
 "nbformat": 4,
 "nbformat_minor": 5
}
