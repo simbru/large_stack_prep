{
 "cells": [
  {
   "cell_type": "code",
   "execution_count": 1,
   "metadata": {},
   "outputs": [],
   "source": [
    "#set plots to show inline\n",
    "%matplotlib inline\n",
    "\n",
    "#import necessary libraries \n",
    "import matplotlib.pyplot as plt\n",
    "import seaborn as sns\n",
    "import numpy as np\n",
    "import os\n",
    "import pathlib\n",
    "import processing_pypeline.readScanM as rsm\n",
    "import napari\n",
    "import igorwriter\n",
    "#from igor import binarywave\n",
    "\n",
    "from scanmsupport.scanm.scanm_smp import SMP, SMH"
   ]
  },
  {
   "attachments": {},
   "cell_type": "markdown",
   "metadata": {},
   "source": [
    "# Give path"
   ]
  },
  {
   "cell_type": "code",
   "execution_count": 2,
   "metadata": {},
   "outputs": [],
   "source": [
    "path = r\"D:\\Igor analyses\\230613\\0_1_ColorSWN_200_0.smp\"\n",
    "path = r\"C:\\Users\\simen\\Downloads\\Real large boi 2\\0_2_ColorSWN_200_0.smh\""
   ]
  },
  {
   "attachments": {},
   "cell_type": "markdown",
   "metadata": {},
   "source": [
    "# Load data (new method)"
   ]
  },
  {
   "cell_type": "code",
   "execution_count": 174,
   "metadata": {},
   "outputs": [],
   "source": [
    "def build_wParams(initialised_SMP_object):\n",
    "    # Build wParamsNum and wParamsStr\n",
    "    keys = initialised_SMP_object._kvPairDict.keys() \n",
    "    AllParams = [(i, initialised_SMP_object._kvPairDict[i]) for i in scmf._kvPairDict]\n",
    "    AllParams_arr = np.array(AllParams, dtype = object)\n",
    "    # Get all info for wParamsStr and compile two lits (list lables and list values)\n",
    "    guid = scmf.GUID # no clue what this is but is included in wParamsStr\n",
    "    wParamsStr_labels = [\"ComputerName\", \"UserName\", \"OriginalPixelDataFileName\", \"DateStamp\", \n",
    "    \"TimeStamp\", \"ScanMproductVersionAndTargetOS\", \"CallingProcessPath\", \"CallingProcessVersion\",\n",
    "    \"StimBufLenList\", \"TargetedStimDurList\", \"TargetedStimDurList\", \"InChan_PixBufLenList\", \n",
    "    \"ScanPathFunc\", \"IgorGUIVer\", \"Comment\", \"Objective\", \"RealStimDurList\"]\n",
    "    wParamsStr_vals = [str(f'\"{initialised_SMP_object._kvPairDict[i][2]}\"') for i in wParamsStr_labels]\n",
    "    # Go through and clean up all indeces so they match current IGOR implementation\n",
    "    wParamsStr_vals[0]  = wParamsStr_vals[0].upper()\n",
    "    wParamsStr_vals[1]  = wParamsStr_vals[1].upper()\n",
    "    wParamsStr_vals[9]  = wParamsStr_vals[9].replace(\"[\", \"\").replace(\"]\", \"\").replace(\" \", \";\").replace(\".\", \"\")\n",
    "    wParamsStr_vals[10] = wParamsStr_vals[10].replace(\"[\", \"\").replace(\"]\", \"\").replace(\" \", \";\").replace(\".\", \"\")\n",
    "    wParamsStr_vals[11] = wParamsStr_vals[11].replace(\"[\", \"\").replace(\"]\", \"\").replace(\" \", \";\").replace(\".\", \"\")\n",
    "    wParamsStr_vals[12] = wParamsStr_vals[12].replace(\"[\", \"\").replace(\"]\", \"\").replace(\" \", \"\").replace(\",\", \"\").replace(\"'\", \"|\").replace(\"||\", \"|\")\n",
    "    wParamsStr_vals[16] = wParamsStr_vals[16].replace(\"[\", \"\").replace(\"]\", \"\").replace(\" \", \";\").replace(\".\", \"\")\n",
    "    wParamsStr_labels.insert(0, \"GUID\") # insert this for label\n",
    "    wParamsStr_vals.insert(0, f'\"{guid}\"'.upper())\n",
    "    wParamsStr_vals = np.array(wParamsStr_vals, dtype = object)\n",
    "    # Do similar for wParamsStr (all this info comes from ScM_FileIO.ipf in Igor installation)\n",
    "    wParamsNum_labels = [\"HeaderLengthInValuePairs\", \"Header_length_in_bytes\", \"MinVoltsAO\", \"MaxVoltsAO\",\n",
    "    \"StimulusChannelMask\", \"MaxStimulusBufferMapLength\", \"NumberOfStimulusBuffers\", \"TargetedPixelDuration_µs\",\n",
    "    \"MinVoltsAI\", \"MaxVoltsAI\", \"InputChannelMask\", \"NumberOfInputChans\", \"PixelSizeInBytes\", \"NumberOfPixBufsSet\",\n",
    "    \"PixelOffs\", \"PixBufCounter\", \"ScanMode\", \"ScanType\", \"FrameWidth\", \"FrameHeight\", \"PixRetraceLen\", \"XPixLineOffs\", \n",
    "    \"divFrameBufReq\", \"NSubPixOversamp\", \"RealPixelDuration_µs\", \"Oversampling_Factor\",\n",
    "    \"XCoord_um\", \"YCoord_um\", \"ZCoord_um\", \"ZStep_um\", \"Zoom\", \"Angle_deg\", \"NFrPerStep\", \"XOffset_V\", \n",
    "    \"YOffset_V\", \"dZPixels\", \"ZPixLineOffs\", \"SetupID\", \"LaserWavelength_nm\", \"AspectRatioFrame\", \n",
    "    \"StimBufPerFr\", \"YPixLineOffs\", \"iChFastScan\", \"dxFrDecoded\", \"dyFrDecoded\", \"dzFrDecoded\",\n",
    "    \"trajDefVRange_V\", \"nTrajParams\", \"zoomFactorZ\", \"offsetZ_V\", \"zeroZ_V\", \"User_ETL_polarity_V\",\n",
    "    \"User_ETL_min_V\", \"User_ETL_min_V\", \"User_ETL_neutral_V\", \"nImgPerFr\", \"User_nWarpParams\"]\n",
    "    wParamsNum_order = [0, 1, 2, 3, 4, 5, 6, 7, 8, 9, 10, 11, 12, 13, 14, 15, 16, 22, 17, 18, 19, 20, 21, 23, 24, \n",
    "    25, 26, 27, 28, 29, 30, 31, 32, 33, 34, 35, 37, 39, 40, 43, 44, 45, 47, 48, 49, 50, 51, 52, 53, 54, 55, 56,\n",
    "    57, 58, 59, 60, 61] # Crazy order comes from ScM_FileIO.ipf\n",
    "    wParamsNum_init = np.zeros([62, 2], dtype = object) \n",
    "    wParamsNum_val_lable_tuples = [(i, scmf._kvPairDict[i][2]) if i in scmf._kvPairDict else (i, 0) for i in wParamsNum_labels]\n",
    "    wParamsNum_val_lable_tuples = np.array(wParamsNum_val_lable_tuples, dtype=object)\n",
    "    for n, i in enumerate(wParamsNum_order):\n",
    "        wParamsNum_init[i] = wParamsNum_val_lable_tuples[n]\n",
    "    wParamsNum_vals = wParamsNum_init[:, 1].astype(np.float32)\n",
    "    wParamsNum_labels = wParamsNum_init[:, 0]\n",
    "    # # Now that needs to go to into .ibw files\n",
    "    wParamsStr = igorwriter.IgorWave(wParamsStr_vals, name='wParamsStr')\n",
    "    wParamsNum = igorwriter.IgorWave(wParamsNum_vals, name='wParamsNum')\n",
    "    return wParamsStr, wParamsNum\n",
    "    # return wParamsStr_vals, wParamsNum_vals"
   ]
  },
  {
   "attachments": {},
   "cell_type": "markdown",
   "metadata": {},
   "source": [
    "TODO:\n",
    "- When computing STRFs, there is an error due to shifts in positions for values in ParamsNums\n",
    "- Another problem is that IGOR needs the original label names (not sure how to store these)\n",
    "- Need a translation dictionary and to fix indexing  "
   ]
  },
  {
   "cell_type": "code",
   "execution_count": 108,
   "metadata": {},
   "outputs": [
    {
     "name": "stdout",
     "output_type": "stream",
     "text": [
      "Processing file `C:\\Users\\simen\\Downloads\\Real large boi 2\\0_2_ColorSWN_200_0.smh`\n",
      "Loading pre-header ...\n",
      "Loading parameters (key-value pairs) ...\n",
      "80 key-value pair(s) found\n",
      "Correct parameters for older files ...\n",
      "71 parameter(s) extracted\n",
      "Done.\n",
      "Processing file `C:\\Users\\simen\\Downloads\\Real large boi 2\\0_2_ColorSWN_200_0.smp`\n",
      "Loading post-header ...\n",
      "2 AI channel(s) (0b101)\n",
      "165124 of 50000 buffer(s) (each 3200 pixels) per channel\n",
      "165124 pixel bufs of 165124 read.\n",
      "Done.\n"
     ]
    },
    {
     "data": {
      "text/plain": [
       "0"
      ]
     },
     "execution_count": 108,
     "metadata": {},
     "output_type": "execute_result"
    }
   ],
   "source": [
    "# Initiate object\n",
    "scmf = SMP()\n",
    "# Load header\n",
    "scmf.loadSMH(path, verbose=False)\n",
    "# Load data\n",
    "scmf.loadSMP()"
   ]
  },
  {
   "cell_type": "code",
   "execution_count": 175,
   "metadata": {},
   "outputs": [],
   "source": [
    "# Create .ibw tables that need to be moved with imaging files\n",
    "wParamsStr, wParamsNum = build_wParams(scmf) # note that these are IGOR waves\n",
    "# Get imaging data\n",
    "channel0 = scmf.getData(ch=0, crop=True)\n",
    "channel2 = scmf.getData(ch=2, crop=True)\n",
    "# Crop trigger channel \n",
    "channel2 = np.copy(channel2[:, :, :2])\n",
    "# Convert to Igor waves\n",
    "wDataCh0 = igorwriter.IgorWave(channel0.swapaxes(0, 2), name = \"wDataCh0\")\n",
    "wDataCh2 = igorwriter.IgorWave(channel2.swapaxes(0, 2), name = \"wDataCh2\")\n",
    "# Create nice paths\n",
    "input_path = pathlib.Path(path)\n",
    "filename = input_path.stem\n",
    "# Save as .ibw\n",
    "save_list = [wParamsStr, wParamsNum, wDataCh0, wDataCh2]\n",
    "for i in save_list:\n",
    "    current_name = i.name\n",
    "    print(current_name)\n",
    "    if current_name == \"wParamsStr\":\n",
    "        i.save_itx(f\"{current_name}.itx\")\n",
    "        igorwriter.IgorWave(wParamsStr).save_itx(\"test.itx\")\n",
    "    else:\n",
    "        i.save(f\"{current_name}.ibw\")\n",
    "# wParamsNum.save(str(save_path.))\n",
    "# imaging.save()\n",
    "save_path"
   ]
  },
  {
   "cell_type": "code",
   "execution_count": 172,
   "metadata": {},
   "outputs": [],
   "source": [
    "igorwriter.IgorWave(channel2.swapaxes(0, 2), name = \"wDataCh2\").save(\"testCh2.ibw\")"
   ]
  },
  {
   "cell_type": "code",
   "execution_count": 167,
   "metadata": {},
   "outputs": [
    {
     "data": {
      "text/plain": [
       "<matplotlib.image.AxesImage at 0x24641e56a10>"
      ]
     },
     "execution_count": 167,
     "metadata": {},
     "output_type": "execute_result"
    },
    {
     "data": {
      "image/png": "[encoded data removed]",
      "text/plain": [
       "<Figure size 640x480 with 1 Axes>"
      ]
     },
     "metadata": {},
     "output_type": "display_data"
    }
   ],
   "source": [
    "plt.imshow(channel2[100])"
   ]
  },
  {
   "cell_type": "code",
   "execution_count": 156,
   "metadata": {},
   "outputs": [
    {
     "data": {
      "text/plain": [
       "<IgorWave 'wParamsStr' at 0x246404c70d0>"
      ]
     },
     "execution_count": 156,
     "metadata": {},
     "output_type": "execute_result"
    }
   ],
   "source": [
    "wParamsStr"
   ]
  },
  {
   "cell_type": "code",
   "execution_count": 458,
   "metadata": {},
   "outputs": [
    {
     "ename": "TypeError",
     "evalue": "Unsupported dtype: <class 'numpy.object_'>",
     "output_type": "error",
     "traceback": [
      "\u001b[1;31m---------------------------------------------------------------------------\u001b[0m",
      "\u001b[1;31mTypeError\u001b[0m                                 Traceback (most recent call last)",
      "Cell \u001b[1;32mIn[458], line 1\u001b[0m\n\u001b[1;32m----> 1\u001b[0m wParamsNum\u001b[39m.\u001b[39;49msave(\u001b[39m\"\u001b[39;49m\u001b[39mtest.ibw\u001b[39;49m\u001b[39m\"\u001b[39;49m)\n",
      "File \u001b[1;32mc:\\Users\\simen\\AppData\\Local\\miniconda3\\lib\\site-packages\\igorwriter\\__init__.py:198\u001b[0m, in \u001b[0;36mIgorWave5.save\u001b[1;34m(self, file, image)\u001b[0m\n\u001b[0;32m    193\u001b[0m \u001b[39mdef\u001b[39;00m \u001b[39msave\u001b[39m(\u001b[39mself\u001b[39m, file, image\u001b[39m=\u001b[39m\u001b[39mFalse\u001b[39;00m):\n\u001b[0;32m    194\u001b[0m \u001b[39m    \u001b[39m\u001b[39m\"\"\"save data as igor binary wave (.ibw) format.\u001b[39;00m\n\u001b[0;32m    195\u001b[0m \n\u001b[0;32m    196\u001b[0m \u001b[39m    :param file: file name or binary-file object.\u001b[39;00m\n\u001b[0;32m    197\u001b[0m \u001b[39m    :param image: if True, rows and columns are transposed.\"\"\"\u001b[39;00m\n\u001b[1;32m--> 198\u001b[0m     a \u001b[39m=\u001b[39m \u001b[39mself\u001b[39;49m\u001b[39m.\u001b[39;49m_check_array(image\u001b[39m=\u001b[39;49mimage)\n\u001b[0;32m    200\u001b[0m     \u001b[39mself\u001b[39m\u001b[39m.\u001b[39m_wave_header\u001b[39m.\u001b[39mnpnts \u001b[39m=\u001b[39m \u001b[39mlen\u001b[39m(a\u001b[39m.\u001b[39mravel())\n\u001b[0;32m    201\u001b[0m     \u001b[39mself\u001b[39m\u001b[39m.\u001b[39m_wave_header\u001b[39m.\u001b[39mtype \u001b[39m=\u001b[39m TYPES[a\u001b[39m.\u001b[39mdtype\u001b[39m.\u001b[39mtype]\n",
      "File \u001b[1;32mc:\\Users\\simen\\AppData\\Local\\miniconda3\\lib\\site-packages\\igorwriter\\__init__.py:283\u001b[0m, in \u001b[0;36mIgorWave5._check_array\u001b[1;34m(self, image)\u001b[0m\n\u001b[0;32m    281\u001b[0m a \u001b[39m=\u001b[39m \u001b[39mself\u001b[39m\u001b[39m.\u001b[39m_cast_array()\n\u001b[0;32m    282\u001b[0m \u001b[39mif\u001b[39;00m a\u001b[39m.\u001b[39mdtype\u001b[39m.\u001b[39mtype \u001b[39mnot\u001b[39;00m \u001b[39min\u001b[39;00m TYPES:\n\u001b[1;32m--> 283\u001b[0m     \u001b[39mraise\u001b[39;00m \u001b[39mTypeError\u001b[39;00m(\u001b[39m'\u001b[39m\u001b[39mUnsupported dtype: \u001b[39m\u001b[39m%r\u001b[39;00m\u001b[39m'\u001b[39m \u001b[39m%\u001b[39m a\u001b[39m.\u001b[39mdtype\u001b[39m.\u001b[39mtype)\n\u001b[0;32m    284\u001b[0m \u001b[39mif\u001b[39;00m a\u001b[39m.\u001b[39mndim \u001b[39m>\u001b[39m \u001b[39m4\u001b[39m:\n\u001b[0;32m    285\u001b[0m     \u001b[39mraise\u001b[39;00m \u001b[39mValueError\u001b[39;00m(\u001b[39m'\u001b[39m\u001b[39mDimension of more than 4 is not supported.\u001b[39m\u001b[39m'\u001b[39m)\n",
      "\u001b[1;31mTypeError\u001b[0m: Unsupported dtype: <class 'numpy.object_'>"
     ]
    }
   ],
   "source": [
    "wParamsStr.save(\"test.ibw\")"
   ]
  },
  {
   "cell_type": "code",
   "execution_count": 452,
   "metadata": {},
   "outputs": [
    {
     "data": {
      "text/plain": [
       "'wDataCh0'"
      ]
     },
     "execution_count": 452,
     "metadata": {},
     "output_type": "execute_result"
    }
   ],
   "source": [
    "imaging.name"
   ]
  },
  {
   "attachments": {},
   "cell_type": "markdown",
   "metadata": {},
   "source": [
    "# Load data (old method)"
   ]
  },
  {
   "cell_type": "code",
   "execution_count": null,
   "metadata": {},
   "outputs": [],
   "source": [
    "\n",
    "class get_stack:\n",
    "    # This class is used in the .smh+.smp to .tiff conversion process, \n",
    "    # as well as for constructing the trigger signal. \n",
    "    def __init__(self, file_path):\n",
    "        print(\"Getting stack...\")\n",
    "        self.file_path = pathlib.Path(file_path)\n",
    "        self.data_directory = self.file_path.parent\n",
    "        # def change_dir(path_of_file):\n",
    "        #     prev_path = pathlib.Path.cwd() #Make note of current (will be previous) working directory\n",
    "        #     print(\"Making note of old path: {}\".format(prev_path))\n",
    "        #     data_path = pathlib.Path(r'{}'.format(path_of_file)) #Construct data path\n",
    "        #     new_path = pathlib.Path(data_path).resolve().parent #Set directory to file location \n",
    "        #     print(\"Changing path to: {}\".format(new_path))\n",
    "        #     os.chdir(new_path)#Change directory\n",
    "        #     print(\"Done\")\n",
    "        #     return prev_path\n",
    "        # prev_path = change_dir(path_of_file = self.data_directory)\n",
    "        print(\"Getting data from {}\".format(self.file_path))\n",
    "        self.filename = self.file_path.name\n",
    "        print(\"Reading header...\")\n",
    "        ## This part of script provided by Andre Chagas \n",
    "        dicHeader = rsm.read_in_header(filePath = self.file_path.with_suffix('.smh'))#+\".smh\")\n",
    "        print(\"Header read.\")\n",
    "        self.frameN = int(dicHeader[\"NumberOfFrames\"])\n",
    "        self.frameC = int(dicHeader[\"FrameCounter\"])\n",
    "        self.frameB = int(dicHeader[\"StimBufPerFr\"]) #Buffer between stimuli (mirror back into place)\n",
    "        self.frameH = int(dicHeader[\"FrameHeight\"])\n",
    "        self.frameW = int(dicHeader[\"FrameWidth\"])\n",
    "        print(\"Reading data...\")\n",
    "        channel_dict = rsm.read_in_data(filePath=self.file_path.with_suffix('.smp'), header=dicHeader,\n",
    "                                  readChan1=True, readChan2=True, \n",
    "                                  readChan3=True, readChan4=True)\n",
    "        print(\"Data retrieved.\")\n",
    "        print(\"Converting to serialised data...\")\n",
    "        #Convert data from serialized to frames\n",
    "        self.channel1 = rsm.to_frame(channel_dict[\"chan1\"], frameTotal=self.frameN, \n",
    "                      frameCounter=self.frameC, frameBuffer=self.frameB, \n",
    "                      frameHeight=self.frameH, frameWidth=self.frameW)\n",
    "\n",
    "        self.channel2 = rsm.to_frame(channel_dict[\"chan2\"], frameTotal=self.frameN, \n",
    "                      frameCounter=self.frameC, frameBuffer=self.frameB, \n",
    "                      frameHeight=self.frameH, frameWidth=self.frameW)\n",
    "        # self.channels_interleved = np.empty((self.channel1.size + self.channel2.size,), dtype=self.channel1.dtype)\n",
    "        print(\"Conversion complete.\")\n",
    "        \"\"\"Use: https://numpy.org/doc/stable/reference/generated/numpy.dstack.html\"\"\"\n",
    "        # os.chdir(prev_path) # Go back where we came from\n",
    "        print(\"Reverting path.\")"
   ]
  },
  {
   "cell_type": "code",
   "execution_count": null,
   "metadata": {},
   "outputs": [],
   "source": [
    "test = get_stack(r\"C:\\Users\\Simen\\Downloads\\0_0_ColorSWN_200_0.smp\")"
   ]
  },
  {
   "cell_type": "code",
   "execution_count": null,
   "metadata": {},
   "outputs": [],
   "source": [
    "plt.imshow(np.average(test.channel1[:, :, 33:-40], axis = 0))"
   ]
  }
 ],
 "metadata": {
  "kernelspec": {
   "display_name": "strfs",
   "language": "python",
   "name": "python3"
  },
  "language_info": {
   "codemirror_mode": {
    "name": "ipython",
    "version": 3
   },
   "file_extension": ".py",
   "mimetype": "text/x-python",
   "name": "python",
   "nbconvert_exporter": "python",
   "pygments_lexer": "ipython3",
   "version": "3.10.9"
  },
  "orig_nbformat": 4
 },
 "nbformat": 4,
 "nbformat_minor": 2
}
