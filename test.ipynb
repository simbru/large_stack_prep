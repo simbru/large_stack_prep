{
 "cells": [
  {
   "cell_type": "code",
   "execution_count": 1,
   "metadata": {},
   "outputs": [],
   "source": [
    "import main"
   ]
  },
  {
   "cell_type": "code",
   "execution_count": 2,
   "metadata": {},
   "outputs": [
    {
     "name": "stdout",
     "output_type": "stream",
     "text": [
      "Processing file `C:\\Users\\labadmin\\Desktop\\To analysis comp\\Simens corner\\230718\\0_2_ColorSWN_200_0.smh`\n",
      "Loading pre-header ...\n",
      "Loading parameters (key-value pairs) ...\n",
      "80 key-value pair(s) found\n",
      "Correct parameters for older files ...\n",
      "71 parameter(s) extracted\n",
      "Done.\n",
      "Processing file `C:\\Users\\labadmin\\Desktop\\To analysis comp\\Simens corner\\230718\\0_2_ColorSWN_200_0.smp`\n",
      "Loading post-header ...\n",
      "2 AI channel(s) (0b101)\n",
      "116680 of 35000 buffer(s) (each 3200 pixels) per channel\n",
      "116680 pixel bufs of 116680 read.\n",
      "Done.\n",
      "Writing wParamsStr\n",
      "Writing wParamsNum\n",
      "Writing wDataCh0\n",
      "Writing wDataCh2\n",
      "Done. Saved outputs to C:\\Users\\labadmin\\Desktop\\To analysis comp\\Simens corner\\230718\\0_2_ColorSWN_200_0\n"
     ]
    }
   ],
   "source": [
    "main.filesize_reducer(r\"C:\\Users\\labadmin\\Desktop\\To analysis comp\\Simens corner\\230718\\0_2_ColorSWN_200_0.smp\")"
   ]
  },
  {
   "cell_type": "code",
   "execution_count": null,
   "metadata": {},
   "outputs": [],
   "source": []
  }
 ],
 "metadata": {
  "kernelspec": {
   "display_name": "Python 3.9.12 64-bit ('anaconda3')",
   "language": "python",
   "name": "python3"
  },
  "language_info": {
   "codemirror_mode": {
    "name": "ipython",
    "version": 3
   },
   "file_extension": ".py",
   "mimetype": "text/x-python",
   "name": "python",
   "nbconvert_exporter": "python",
   "pygments_lexer": "ipython3",
   "version": "3.9.12"
  },
  "orig_nbformat": 4,
  "vscode": {
   "interpreter": {
    "hash": "34d70a8805e882956fe9eacc966a8343f39b782c5aa47ee152ef1353755d660b"
   }
  }
 },
 "nbformat": 4,
 "nbformat_minor": 2
}
